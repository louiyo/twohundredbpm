{
 "cells": [
  {
   "cell_type": "code",
   "execution_count": 1,
   "metadata": {
    "id": "zATcniQBIWnK"
   },
   "outputs": [],
   "source": [
    "from preprocessing import *\n",
    "from proj2_helpers import *\n",
    "from UNet_model import *\n",
    "from run import *\n"
   ]
  },
  {
   "cell_type": "code",
   "execution_count": 2,
   "metadata": {
    "colab": {
     "base_uri": "https://localhost:8080/"
    },
    "id": "0CdwgKOAj_7T",
    "outputId": "d56c78e3-99c5-4739-a9d6-f6083724341c"
   },
   "outputs": [
    {
     "name": "stdout",
     "output_type": "stream",
     "text": [
      "processing image  0 / 100\n",
      "processing image  1 / 100\n",
      "processing image  2 / 100\n",
      "processing image  3 / 100\n",
      "processing image  4 / 100\n",
      "processing image  5 / 100\n",
      "processing image  6 / 100\n",
      "processing image  7 / 100\n",
      "processing image  8 / 100\n",
      "processing image  9 / 100\n",
      "processing image  10 / 100\n",
      "processing image  11 / 100\n",
      "processing image  12 / 100\n",
      "processing image  13 / 100\n",
      "processing image  14 / 100\n",
      "processing image  15 / 100\n",
      "processing image  16 / 100\n",
      "processing image  17 / 100\n",
      "processing image  18 / 100\n",
      "processing image  19 / 100\n",
      "processing image  20 / 100\n",
      "processing image  21 / 100\n",
      "processing image  22 / 100\n",
      "processing image  23 / 100\n",
      "processing image  24 / 100\n",
      "processing image  25 / 100\n",
      "processing image  26 / 100\n",
      "processing image  27 / 100\n",
      "processing image  28 / 100\n",
      "processing image  29 / 100\n",
      "processing image  30 / 100\n",
      "processing image  31 / 100\n",
      "processing image  32 / 100\n",
      "processing image  33 / 100\n",
      "processing image  34 / 100\n",
      "processing image  35 / 100\n",
      "processing image  36 / 100\n",
      "processing image  37 / 100\n",
      "processing image  38 / 100\n",
      "processing image  39 / 100\n",
      "processing image  40 / 100\n",
      "processing image  41 / 100\n",
      "processing image  42 / 100\n",
      "processing image  43 / 100\n",
      "processing image  44 / 100\n",
      "processing image  45 / 100\n",
      "processing image  46 / 100\n",
      "processing image  47 / 100\n",
      "processing image  48 / 100\n",
      "processing image  49 / 100\n",
      "processing image  50 / 100\n",
      "processing image  51 / 100\n",
      "processing image  52 / 100\n",
      "processing image  53 / 100\n",
      "processing image  54 / 100\n",
      "processing image  55 / 100\n",
      "processing image  56 / 100\n",
      "processing image  57 / 100\n",
      "processing image  58 / 100\n",
      "processing image  59 / 100\n",
      "processing image  60 / 100\n",
      "processing image  61 / 100\n",
      "processing image  62 / 100\n",
      "processing image  63 / 100\n",
      "processing image  64 / 100\n",
      "processing image  65 / 100\n",
      "processing image  66 / 100\n",
      "processing image  67 / 100\n",
      "processing image  68 / 100\n",
      "processing image  69 / 100\n",
      "processing image  70 / 100\n",
      "processing image  71 / 100\n",
      "processing image  72 / 100\n",
      "processing image  73 / 100\n",
      "processing image  74 / 100\n",
      "processing image  75 / 100\n",
      "processing image  76 / 100\n",
      "processing image  77 / 100\n",
      "processing image  78 / 100\n",
      "processing image  79 / 100\n",
      "processing image  80 / 100\n",
      "processing image  81 / 100\n",
      "processing image  82 / 100\n",
      "processing image  83 / 100\n",
      "processing image  84 / 100\n",
      "processing image  85 / 100\n",
      "processing image  86 / 100\n",
      "processing image  87 / 100\n",
      "processing image  88 / 100\n",
      "processing image  89 / 100\n",
      "processing image  90 / 100\n",
      "processing image  91 / 100\n",
      "processing image  92 / 100\n",
      "processing image  93 / 100\n",
      "processing image  94 / 100\n",
      "processing image  95 / 100\n",
      "processing image  96 / 100\n",
      "processing image  97 / 100\n",
      "processing image  98 / 100\n",
      "processing image  99 / 100\n"
     ]
    }
   ],
   "source": [
    "X_train, X_test, Y_train, Y_test = preprocess(divide_set=True, ratio=0.25)\n",
    "\n"
   ]
  },
  {
   "cell_type": "code",
   "execution_count": 3,
   "metadata": {
    "id": "T5ygNZLrpPgG"
   },
   "outputs": [],
   "source": [
    "X_train = np.stack(X_train, axis = 0)\n",
    "X_test = np.stack(X_test, axis = 0)\n",
    "Y_train = np.stack(Y_train, axis = 0)\n",
    "Y_test = np.stack(Y_test, axis = 0)"
   ]
  },
  {
   "cell_type": "code",
   "execution_count": 4,
   "metadata": {
    "colab": {
     "base_uri": "https://localhost:8080/"
    },
    "id": "F1MaGIyQJf1W",
    "outputId": "a5d61886-9905-40e2-fbed-f1712f09f074"
   },
   "outputs": [
    {
     "name": "stdout",
     "output_type": "stream",
     "text": [
      "(225, 400, 400, 3)\n",
      "(75, 400, 400, 3)\n",
      "(225, 400, 400, 1)\n",
      "(75, 400, 400, 1)\n"
     ]
    }
   ],
   "source": [
    "print(X_train.shape)\n",
    "print(X_test.shape)\n",
    "print(Y_train.shape)\n",
    "print(Y_test.shape)"
   ]
  },
  {
   "cell_type": "code",
   "execution_count": null,
   "metadata": {},
   "outputs": [],
   "source": [
    "import importlib\n",
    "importlib.reload(run)"
   ]
  },
  {
   "cell_type": "code",
   "execution_count": 16,
   "metadata": {},
   "outputs": [],
   "source": [
    "def run__(X_train, Y_train, X_test, Y_test):\n",
    "\n",
    "    IMG_HEIGHT = IMG_WIDTH = 400\n",
    "    IMG_CHANNELS = 3\n",
    "\n",
    "    inputs = Input((IMG_HEIGHT, IMG_WIDTH, IMG_CHANNELS))\n",
    "    s = Lambda(lambda x: x / 255)(inputs)\n",
    "    print(\"HELP ! \", inputs, \" o\")\n",
    "    print(\"HELP ! \", s, \" o\")\n",
    "    \"\"\"unet_model = build_unet(s, n_filters=16, dropout_down=0.05, dropout_up=0.1, batch_norm=True,\n",
    "                            activation_fct='relu', final_activation='sigmoid', kernel_size=(3, 3))\n",
    "\n",
    "    unet_model.fit(X_train, Y_train, validation_split=0.1,\n",
    "                   batch_size=16, epochs=25)\n",
    "    results = unet_model.fit(X_train, Y_train, batch_size=16, epochs=25)\n",
    "\n",
    "    # fitting the model to the train data\n",
    "    # evaluating performance of the model\n",
    "    result = unet_model.evaluate(X_test, Y_test)\"\"\"\n",
    "    return 0\n"
   ]
  },
  {
   "cell_type": "code",
   "execution_count": 17,
   "metadata": {
    "colab": {
     "base_uri": "https://localhost:8080/",
     "height": 339
    },
    "id": "j-r3EDVO7L8M",
    "outputId": "182667b7-61ec-426d-ddf9-8c5d8ee20b03"
   },
   "outputs": [
    {
     "name": "stdout",
     "output_type": "stream",
     "text": [
      "HELP !  Tensor(\"input_1:0\", shape=(None, 400, 400, 3), dtype=float32)  o\n",
      "HELP !  Tensor(\"lambda/truediv:0\", shape=(None, 400, 400, 3), dtype=float32)  o\n"
     ]
    }
   ],
   "source": [
    "tf.keras.backend.clear_session()\n",
    "result = run__(X_train, Y_train, X_test, Y_test)"
   ]
  },
  {
   "cell_type": "code",
   "execution_count": null,
   "metadata": {
    "id": "0-XNexuctURo"
   },
   "outputs": [],
   "source": [
    "from google.colab import drive\n",
    "drive.mount('/content/drive')"
   ]
  },
  {
   "cell_type": "code",
   "execution_count": null,
   "metadata": {
    "id": "44QiD9m-nWPi"
   },
   "outputs": [],
   "source": [
    "patch_size = 16 # each patch is 16*16 pixels\n",
    "\n",
    "img_patches = [img_crop(img_aug_arr, patch_size, patch_size) for img_aug_arr in imgs_aug_arr]\n",
    "gt_patches = [img_crop(gt_img_aug_arr, patch_size, patch_size) for gt_img_aug_arr in gt_imgs_aug_arr]\n",
    "\n",
    "# Linearize list of patches\n",
    "img_patches = np.asarray([img_patches[i][j] for i in range(len(img_patches)) for j in range(len(img_patches[i]))])\n",
    "gt_patches =  np.asarray([gt_patches[i][j] for i in range(len(gt_patches)) for j in range(len(gt_patches[i]))])"
   ]
  },
  {
   "cell_type": "code",
   "execution_count": null,
   "metadata": {
    "colab": {
     "base_uri": "https://localhost:8080/"
    },
    "id": "rYJcd9ITpvNh",
    "outputId": "20318ef3-71d6-4187-c3f5-77c8e0a7db98"
   },
   "outputs": [],
   "source": [
    "img_patches.shape"
   ]
  },
  {
   "cell_type": "code",
   "execution_count": null,
   "metadata": {
    "id": "V_ZtZa718Kf2"
   },
   "outputs": [],
   "source": [
    "foreground_threshold = 0.25 # percentage of pixels > 1 required to assign a foreground label to a patch\n",
    "\n",
    "X = np.asarray([ extract_features_2d(img_patches[i]) for i in range(len(img_patches))])\n",
    "Y = np.asarray([value_to_class(np.mean(gt_patches[i])) for i in range(len(gt_patches))])"
   ]
  },
  {
   "cell_type": "code",
   "execution_count": null,
   "metadata": {
    "colab": {
     "base_uri": "https://localhost:8080/"
    },
    "id": "j8FTphZ480V8",
    "outputId": "cb03ead4-7738-45e0-b217-b637e7264c9b"
   },
   "outputs": [],
   "source": [
    "print('Computed ' + str(X.shape[0]) + ' features')\n",
    "print('Feature dimension = ' + str(X.shape[1]))\n",
    "print('Number of classes = ' + str(np.max(Y)))  #TODO: fix, length(unique(Y)) \n",
    "\n",
    "Y0 = [i for i, j in enumerate(Y) if j == 0]\n",
    "Y1 = [i for i, j in enumerate(Y) if j == 1]\n",
    "print('Class 0: ' + str(len(Y0)) + ' samples')\n",
    "print('Class 1: ' + str(len(Y1)) + ' samples')\n",
    "\n",
    "from sklearn import linear_model\n",
    "\n",
    "# we create an instance of the classifier and fit the data\n",
    "logreg = linear_model.LogisticRegression(C=1e5, class_weight=\"balanced\")\n",
    "logreg.fit(X, Y)\n",
    "\n",
    "# Predict on the training set\n",
    "Z = logreg.predict(X)\n",
    "\n",
    "# Get non-zeros in prediction and grountruth arrays\n",
    "Zn = np.nonzero(Z)[0]\n",
    "Yn = np.nonzero(Y)[0]\n",
    "\n",
    "TPR = len(list(set(Yn) & set(Zn))) / float(len(Z))\n",
    "print('True positive rate = ' + str(TPR))"
   ]
  },
  {
   "cell_type": "code",
   "execution_count": null,
   "metadata": {
    "id": "ZCxuj--Y9XOC"
   },
   "outputs": [],
   "source": []
  }
 ],
 "metadata": {
  "accelerator": "TPU",
  "colab": {
   "collapsed_sections": [],
   "name": "ML_project2",
   "provenance": [],
   "toc_visible": true
  },
  "kernelspec": {
   "display_name": "Python 3",
   "language": "python",
   "name": "python3"
  },
  "language_info": {
   "codemirror_mode": {
    "name": "ipython",
    "version": 3
   },
   "file_extension": ".py",
   "mimetype": "text/x-python",
   "name": "python",
   "nbconvert_exporter": "python",
   "pygments_lexer": "ipython3",
   "version": "3.8.3"
  }
 },
 "nbformat": 4,
 "nbformat_minor": 1
}
