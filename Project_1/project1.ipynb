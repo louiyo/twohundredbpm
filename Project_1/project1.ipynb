{
 "cells": [
  {
   "cell_type": "code",
   "execution_count": 1,
   "metadata": {},
   "outputs": [],
   "source": [
    "# Useful starting lines\n",
    "%matplotlib inline\n",
    "import numpy as np\n",
    "import matplotlib.pyplot as plt\n",
    "%load_ext autoreload\n",
    "%autoreload 2\n",
    "\n",
    "from proj1_helpers import *\n",
    "from helpers import *\n",
    "from implementations import *\n",
    "from cost import *\n",
    "from gradients import *\n",
    "from preprocessing import *\n",
    "from cross_validation import *"
   ]
  },
  {
   "cell_type": "markdown",
   "metadata": {},
   "source": [
    "## Load the training data into feature matrix, class labels, and event ids:"
   ]
  },
  {
   "cell_type": "code",
   "execution_count": 29,
   "metadata": {},
   "outputs": [
    {
     "name": "stdout",
     "output_type": "stream",
     "text": [
      "4\n"
     ]
    }
   ],
   "source": [
    "from proj1_helpers import *\n",
    "DATA_TRAIN_PATH = 'Data/train.csv' # TODO: download train data and supply path here \n",
    "y, tX, ids = load_csv_data(DATA_TRAIN_PATH)"
   ]
  },
  {
   "cell_type": "markdown",
   "metadata": {},
   "source": [
    "## Generate predictions and save ouput in csv format for submission:"
   ]
  },
  {
   "cell_type": "code",
   "execution_count": 56,
   "metadata": {},
   "outputs": [
    {
     "name": "stdout",
     "output_type": "stream",
     "text": [
      "4\n"
     ]
    }
   ],
   "source": [
    "DATA_TEST_PATH = 'Data/test.csv' # TODO: download train data and supply path here \n",
    "_, tX_test, ids_test = load_csv_data(DATA_TEST_PATH)"
   ]
  },
  {
   "cell_type": "code",
   "execution_count": 44,
   "metadata": {},
   "outputs": [
    {
     "name": "stdout",
     "output_type": "stream",
     "text": [
      "350000\n"
     ]
    }
   ],
   "source": [
    "minimums = []\n",
    "for jet_num in range(len(ids)):\n",
    "    minimums.append(ids_test[jet_num].min())\n",
    "the_minimum = min(minimums)\n",
    "print(the_minimum)"
   ]
  },
  {
   "cell_type": "code",
   "execution_count": 57,
   "metadata": {},
   "outputs": [],
   "source": [
    "tX_rename_after = tX.copy()\n",
    "tX_test_rename_after = tX_test.copy()\n"
   ]
  },
  {
   "cell_type": "code",
   "execution_count": 58,
   "metadata": {},
   "outputs": [],
   "source": [
    "\n",
    "tX_rename_after = remove_non_defined_columns(tX_rename_after)\n",
    "tX_test_rename_after = remove_non_defined_columns(tX_test_rename_after)\n"
   ]
  },
  {
   "cell_type": "code",
   "execution_count": 59,
   "metadata": {},
   "outputs": [],
   "source": [
    "\n",
    "y_pred = []\n",
    "y_total = np.zeros(len(tX_test[0]) + len(tX_test[1]) + len(tX_test[2]) + len(tX_test[3]))"
   ]
  },
  {
   "cell_type": "code",
   "execution_count": 60,
   "metadata": {},
   "outputs": [
    {
     "name": "stdout",
     "output_type": "stream",
     "text": [
      "(99913,)\n",
      "dans cross_val  99913   20\n",
      "dans cross_val  227458   20\n",
      "nrwos :  99913  ncols :  101\n",
      "The accuracy of model 0 is equal to 0.0\n",
      "(101, 1)   [[1.00000000e+000 1.08812715e+002 1.18402069e+004 ... 1.58773771e+122\n",
      "  8.59748998e+162 4.65548142e+203]\n",
      " [1.00000000e+000 1.15120715e+002 1.32527790e+004 ... 4.66883648e+123\n",
      "  7.80329846e+164 1.30421074e+206]\n",
      " [1.00000000e+000 1.33187715e+002 1.77389674e+004 ... 2.93663559e+127\n",
      "  9.06010876e+169 2.79522495e+212]\n",
      " ...\n",
      " [1.00000000e+000 1.16338715e+002 1.35346966e+004 ... 8.77921572e+123\n",
      "  1.81109387e+165 3.73616631e+206]\n",
      " [1.00000000e+000 1.05823715e+002 1.11986586e+004 ... 2.98524638e+121\n",
      "  9.26062376e+161 2.87276632e+202]\n",
      " [1.00000000e+000 8.96997149e+001 8.04603884e+003 ... 1.47049566e+117\n",
      "  1.67218759e+156 1.90154342e+195]]   [[1.00000000e+000 1.41256852e+002 1.99534981e+004 ... 1.00131637e+129\n",
      "  1.00175555e+172 1.00219492e+215]\n",
      " [1.00000000e+000 1.73215852e+002 3.00037312e+004 ... 2.06660743e+134\n",
      "  1.22182961e+179 7.22376001e+223]\n",
      " [1.00000000e+000 1.02945852e+002 1.05978483e+004 ... 5.70861836e+120\n",
      "  1.02025331e+161 1.82341288e+201]\n",
      " ...\n",
      " [1.00000000e+000 1.08803852e+002 1.18382781e+004 ... 1.57999657e+122\n",
      "  8.54164512e+162 4.61771265e+203]\n",
      " [1.00000000e+000 9.23028515e+001 8.51981640e+003 ... 8.18289674e+117\n",
      "  1.64895737e+157 3.32285802e+196]\n",
      " [1.00000000e+000 1.08803852e+002 1.18382781e+004 ... 1.57999657e+122\n",
      "  8.54164512e+162 4.61771265e+203]]\n",
      "1\n",
      "(77544,)\n",
      "dans cross_val  77544   23\n",
      "dans cross_val  175338   23\n",
      "nrwos :  77544  ncols :  231\n",
      "The accuracy of model 1 is equal to 0.0\n",
      "(231, 1)   [[1.00000000e+000 1.04237460e+002 1.08654481e+004 ... 1.98479244e+145\n",
      "  2.88356327e+163 4.18932324e+181]\n",
      " [1.00000000e+000 8.36374601e+001 6.99522474e+003 ... 2.58737983e+138\n",
      "  5.18164566e+155 1.03770817e+173]\n",
      " [1.00000000e+000 8.77604601e+001 7.70189836e+003 ... 8.27027974e+139\n",
      "  2.55393726e+157 7.88678950e+174]\n",
      " ...\n",
      " [1.00000000e+000 9.46554601e+001 8.95965614e+003 ... 1.91640950e+142\n",
      "  1.16895920e+160 7.13034255e+177]\n",
      " [1.00000000e+000 1.07922460e+002 1.16472574e+004 ... 2.42132031e+146\n",
      "  4.80904427e+164 9.55136201e+182]\n",
      " [1.00000000e+000 9.45504601e+001 8.93978951e+003 ... 1.76922296e+142\n",
      "  1.06845291e+160 6.45250289e+177]]   [[1.00000000e+000 1.58789506e+002 2.52141072e+004 ... 2.87852122e+158\n",
      "  1.84741989e+178 1.18566444e+198]\n",
      " [1.00000000e+000 1.10258006e+002 1.21568279e+004 ... 1.13117465e+147\n",
      "  2.72408635e+165 6.56012445e+183]\n",
      " [1.00000000e+000 1.52768506e+002 2.33382164e+004 ... 1.78006505e+157\n",
      "  8.06752568e+176 3.65632541e+196]\n",
      " ...\n",
      " [1.00000000e+000 1.10258006e+002 1.21568279e+004 ... 1.13117465e+147\n",
      "  2.72408635e+165 6.56012445e+183]\n",
      " [1.00000000e+000 1.31309506e+002 1.72421864e+004 ... 3.29097109e+152\n",
      "  3.81935103e+171 4.43256470e+190]\n",
      " [1.00000000e+000 1.03309506e+002 1.06728540e+004 ... 1.04255871e+145\n",
      "  1.39753626e+163 1.87337902e+181]]\n",
      "2\n",
      "(50379,)\n",
      "dans cross_val  50379   30\n",
      "dans cross_val  114648   30\n",
      "nrwos :  50379  ncols :  361\n",
      "The accuracy of model 2 is equal to 0.0\n",
      "(361, 1)   [[1.00000000e+00 4.27008946e+02 1.82336640e+05 ...            inf\n",
      "             inf            inf]\n",
      " [1.00000000e+00 1.08274946e+02 1.17234639e+04 ...            inf\n",
      "             inf            inf]\n",
      " [1.00000000e+00 8.13389459e+01 6.61602413e+03 ...            inf\n",
      "             inf            inf]\n",
      " ...\n",
      " [1.00000000e+00 1.59073946e+02 2.53045203e+04 ...            inf\n",
      "             inf            inf]\n",
      " [1.00000000e+00 1.03403946e+02 1.06923760e+04 ...            inf\n",
      "             inf            inf]\n",
      " [1.00000000e+00 9.70299459e+01 9.41481041e+03 ...            inf\n",
      "             inf            inf]]   [[1.00000000e+00 1.36211650e+02 1.85536135e+04 ...            inf\n",
      "             inf            inf]\n",
      " [1.00000000e+00 1.46495650e+02 2.14609754e+04 ...            inf\n",
      "             inf            inf]\n",
      " [1.00000000e+00 1.39222650e+02 1.93829462e+04 ...            inf\n",
      "             inf            inf]\n",
      " ...\n",
      " [1.00000000e+00 1.17675650e+02 1.38475586e+04 ...            inf\n",
      "             inf            inf]\n",
      " [1.00000000e+00 1.23892650e+02 1.53493887e+04 ...            inf\n",
      "             inf            inf]\n",
      " [1.00000000e+00 2.14761650e+02 4.61225662e+04 ...            inf\n",
      "             inf            inf]]\n",
      "3\n",
      "(22164,)\n",
      "dans cross_val  22164   30\n",
      "dans cross_val  50794   30\n",
      "nrwos :  22164  ncols :  451\n",
      "The accuracy of model 3 is equal to 0.0\n",
      "(451, 1)   [[1.00000000e+00 7.23322706e+01 5.23195738e+03 ...            inf\n",
      "             inf            inf]\n",
      " [1.00000000e+00 7.84292706e+01 6.15115049e+03 ...            inf\n",
      "             inf            inf]\n",
      " [1.00000000e+00 1.01586271e+02 1.03197704e+04 ...            inf\n",
      "             inf            inf]\n",
      " ...\n",
      " [1.00000000e+00 1.26525271e+02 1.60086441e+04 ...            inf\n",
      "             inf            inf]\n",
      " [1.00000000e+00 1.05857271e+02 1.12057617e+04 ...            inf\n",
      "             inf            inf]\n",
      " [1.00000000e+00 7.94452706e+01 6.31155103e+03 ...            inf\n",
      "             inf            inf]]   [[1.00000000e+00 8.79635900e+01 7.73759316e+03 ...            inf\n",
      "             inf            inf]\n",
      " [1.00000000e+00 1.12963590e+02 1.27607727e+04 ...            inf\n",
      "             inf            inf]\n",
      " [1.00000000e+00 1.19900590e+02 1.43761515e+04 ...            inf\n",
      "             inf            inf]\n",
      " ...\n",
      " [1.00000000e+00 1.05753590e+02 1.11838218e+04 ...            inf\n",
      "             inf            inf]\n",
      " [1.00000000e+00 1.05753590e+02 1.11838218e+04 ...            inf\n",
      "             inf            inf]\n",
      " [1.00000000e+00 1.28294590e+02 1.64595018e+04 ...            inf\n",
      "             inf            inf]]\n",
      "4\n"
     ]
    }
   ],
   "source": [
    "degrees = [5, 10, 12, 15]\n",
    "lambdas = [0.0001, 0.01, 0.01, 0.1]\n",
    "\n",
    "# Mauvaise itération - itérer sur chaque dataset spécifique au particules 0,1,2, et 3.\n",
    "# Puis compute le model pour les particules avec le PRI_jet_num spécifique.\n",
    "for idx in range(len(tX_rename_after)):\n",
    "    # initializing the prediction vector :\n",
    "    y_pred_ = np.zeros(len(tX_rename_after[idx]))\n",
    "    \n",
    "\n",
    "    # extracting the values of group idx :\n",
    "    train_x_jet_ = tX_rename_after[idx]\n",
    "    train_y_jet_ = y[idx]\n",
    "    test_x_jet_ = tX_test_rename_after[idx]\n",
    "\n",
    "    # Removing additional outliers :\n",
    "    train_selected_x_jet = replace_non_defined(train_x_jet_)\n",
    "    test_selected_x_jet = replace_non_defined(test_x_jet_)\n",
    "\n",
    "    # standardize :\n",
    "    tX_train_std, _, _ = standardize(train_selected_x_jet)\n",
    "    tX_test_std, _, _ = standardize(test_selected_x_jet)\n",
    "\n",
    "    # Polynomial feature expansion :\n",
    "    tX_train_poly = build_poly_tx(tX_train_std, degrees[idx])\n",
    "    tX_test_poly = build_poly_tx(tX_test_std, degrees[idx])\n",
    "\n",
    "    w_, loss_ = ridge_regression(train_y_jet_, tX_train_poly, lambdas[idx])\n",
    "\n",
    "    accuracy_ = compute_accuracy(train_y_jet_, tX_train_poly, w_)\n",
    "    print('The accuracy of model {} is equal to {}'.format(int(idx),accuracy_\n",
    "\n",
    "    # Computing test accuracy : (To be changed -> à mettre dans une nouvelle boucle)\n",
    "    y_pred_jet = predict_labels(w_, tX_test_poly)\n",
    "    \n",
    "    y_pred.append(y_pred_jet)\n",
    "                                                           \n",
    "    #y_pred[test_x_jet_[1] == idx] = y_pred_.flatten()\n",
    "\n"
   ]
  },
  {
   "cell_type": "code",
   "execution_count": 46,
   "metadata": {},
   "outputs": [
    {
     "name": "stdout",
     "output_type": "stream",
     "text": [
      "568238\n",
      "568238\n"
     ]
    },
    {
     "ename": "NameError",
     "evalue": "name 'OUTPUT_PATH' is not defined",
     "output_type": "error",
     "traceback": [
      "\u001b[1;31m---------------------------------------------------------------------------\u001b[0m",
      "\u001b[1;31mNameError\u001b[0m                                 Traceback (most recent call last)",
      "\u001b[1;32m<ipython-input-46-9831ac76ab4d>\u001b[0m in \u001b[0;36m<module>\u001b[1;34m\u001b[0m\n\u001b[0;32m     13\u001b[0m \u001b[1;33m->\u001b[0m \u001b[0mpeut\u001b[0m\u001b[1;33m-\u001b[0m\u001b[0mêtre\u001b[0m \u001b[0men\u001b[0m \u001b[0mdéduisant\u001b[0m \u001b[0mla\u001b[0m \u001b[0mvaleur\u001b[0m \u001b[0mdu\u001b[0m \u001b[0mid\u001b[0m \u001b[0mzéro\u001b[0m \u001b[0mavec\u001b[0m \u001b[0mla\u001b[0m \u001b[0mvaleur\u001b[0m \u001b[0mde\u001b[0m \u001b[0mids\u001b[0m\u001b[1;33m[\u001b[0m\u001b[0mjet_num\u001b[0m\u001b[1;33m]\u001b[0m\u001b[1;33m[\u001b[0m\u001b[0mj\u001b[0m\u001b[1;33m]\u001b[0m\u001b[1;33m\u001b[0m\u001b[1;33m\u001b[0m\u001b[0m\n\u001b[0;32m     14\u001b[0m \"\"\"\n\u001b[1;32m---> 15\u001b[1;33m \u001b[0mcreate_csv_submission\u001b[0m\u001b[1;33m(\u001b[0m\u001b[0mids_test\u001b[0m\u001b[1;33m,\u001b[0m \u001b[0my_pred\u001b[0m\u001b[1;33m,\u001b[0m \u001b[0mOUTPUT_PATH\u001b[0m\u001b[1;33m)\u001b[0m\u001b[1;33m\u001b[0m\u001b[1;33m\u001b[0m\u001b[0m\n\u001b[0m",
      "\u001b[1;31mNameError\u001b[0m: name 'OUTPUT_PATH' is not defined"
     ]
    }
   ],
   "source": [
    "\n",
    "y_total = np.zeros(len(ids_test[0]) + len(ids_test[1]) + len(ids_test[2]) + len(ids_test[3]))\n",
    "\n",
    "print(len(y_pred[0]) + len(y_pred[1]) + len(y_pred[2]) + len(y_pred[3]))\n",
    "print(len(y_total))\n",
    "\n",
    "for jet_num in range(len(y)):\n",
    "    for j in range(len(y_pred[jet_num])):\n",
    "        y_total[ids_test[jet_num][j] - the_minimum] = y_pred[jet_num][j]\n",
    "        \n",
    "\"\"\"\n",
    "à faire : faire correspondre les résultats de prédictions correspondant à \n",
    "chaque type de particule aux index correspondants dans le y_total de taille 250k\n",
    "-> peut-être en déduisant la valeur du id zéro avec la valeur de ids[jet_num][j]\n",
    "\"\"\"\n"
   ]
  },
  {
   "cell_type": "code",
   "execution_count": 49,
   "metadata": {},
   "outputs": [
    {
     "data": {
      "text/plain": [
       "array([[nan],\n",
       "       [nan],\n",
       "       [nan],\n",
       "       ...,\n",
       "       [nan],\n",
       "       [nan],\n",
       "       [nan]])"
      ]
     },
     "execution_count": 49,
     "metadata": {},
     "output_type": "execute_result"
    }
   ],
   "source": [
    "y_total.reshape(-1, 1)"
   ]
  },
  {
   "cell_type": "code",
   "execution_count": 50,
   "metadata": {},
   "outputs": [
    {
     "name": "stdout",
     "output_type": "stream",
     "text": [
      "nan\n"
     ]
    }
   ],
   "source": [
    "print(y_total[12])"
   ]
  },
  {
   "cell_type": "code",
   "execution_count": 47,
   "metadata": {},
   "outputs": [
    {
     "ename": "TypeError",
     "evalue": "only size-1 arrays can be converted to Python scalars",
     "output_type": "error",
     "traceback": [
      "\u001b[1;31m---------------------------------------------------------------------------\u001b[0m",
      "\u001b[1;31mTypeError\u001b[0m                                 Traceback (most recent call last)",
      "\u001b[1;32m<ipython-input-47-4e570dfaaee2>\u001b[0m in \u001b[0;36m<module>\u001b[1;34m\u001b[0m\n\u001b[0;32m      1\u001b[0m \u001b[0mOUTPUT_PATH\u001b[0m \u001b[1;33m=\u001b[0m \u001b[1;34m'Data/doto.csv'\u001b[0m \u001b[1;31m# TODO: fill in desired name of output file for submission\u001b[0m\u001b[1;33m\u001b[0m\u001b[1;33m\u001b[0m\u001b[0m\n\u001b[1;32m----> 2\u001b[1;33m \u001b[0mcreate_csv_submission\u001b[0m\u001b[1;33m(\u001b[0m\u001b[0mids_test\u001b[0m\u001b[1;33m,\u001b[0m \u001b[0my_total\u001b[0m\u001b[1;33m,\u001b[0m \u001b[0mOUTPUT_PATH\u001b[0m\u001b[1;33m)\u001b[0m\u001b[1;33m\u001b[0m\u001b[1;33m\u001b[0m\u001b[0m\n\u001b[0m",
      "\u001b[1;32m~\\Desktop\\EPFL\\MA1\\Machine Learning\\twohundredbpm\\Project_1\\proj1_helpers.py\u001b[0m in \u001b[0;36mcreate_csv_submission\u001b[1;34m(ids, y_pred, name)\u001b[0m\n\u001b[0;32m     63\u001b[0m         \u001b[0mwriter\u001b[0m\u001b[1;33m.\u001b[0m\u001b[0mwriteheader\u001b[0m\u001b[1;33m(\u001b[0m\u001b[1;33m)\u001b[0m\u001b[1;33m\u001b[0m\u001b[1;33m\u001b[0m\u001b[0m\n\u001b[0;32m     64\u001b[0m         \u001b[1;32mfor\u001b[0m \u001b[0mr1\u001b[0m\u001b[1;33m,\u001b[0m \u001b[0mr2\u001b[0m \u001b[1;32min\u001b[0m \u001b[0mzip\u001b[0m\u001b[1;33m(\u001b[0m\u001b[0mids\u001b[0m\u001b[1;33m,\u001b[0m \u001b[0my_pred\u001b[0m\u001b[1;33m)\u001b[0m\u001b[1;33m:\u001b[0m\u001b[1;33m\u001b[0m\u001b[1;33m\u001b[0m\u001b[0m\n\u001b[1;32m---> 65\u001b[1;33m             \u001b[0mwriter\u001b[0m\u001b[1;33m.\u001b[0m\u001b[0mwriterow\u001b[0m\u001b[1;33m(\u001b[0m\u001b[1;33m{\u001b[0m\u001b[1;34m'Id'\u001b[0m\u001b[1;33m:\u001b[0m \u001b[0mint\u001b[0m\u001b[1;33m(\u001b[0m\u001b[0mr1\u001b[0m\u001b[1;33m)\u001b[0m\u001b[1;33m,\u001b[0m \u001b[1;34m'Prediction'\u001b[0m\u001b[1;33m:\u001b[0m \u001b[0mint\u001b[0m\u001b[1;33m(\u001b[0m\u001b[0mr2\u001b[0m\u001b[1;33m)\u001b[0m\u001b[1;33m}\u001b[0m\u001b[1;33m)\u001b[0m\u001b[1;33m\u001b[0m\u001b[1;33m\u001b[0m\u001b[0m\n\u001b[0m",
      "\u001b[1;31mTypeError\u001b[0m: only size-1 arrays can be converted to Python scalars"
     ]
    }
   ],
   "source": [
    "OUTPUT_PATH = 'Data/doto.csv' # TODO: fill in desired name of output file for submission\n",
    "create_csv_submission(ids_test, y_total, OUTPUT_PATH)"
   ]
  },
  {
   "cell_type": "code",
   "execution_count": null,
   "metadata": {},
   "outputs": [],
   "source": []
  }
 ],
 "metadata": {
  "anaconda-cloud": {},
  "kernelspec": {
   "display_name": "Python 3",
   "language": "python",
   "name": "python3"
  },
  "language_info": {
   "codemirror_mode": {
    "name": "ipython",
    "version": 3
   },
   "file_extension": ".py",
   "mimetype": "text/x-python",
   "name": "python",
   "nbconvert_exporter": "python",
   "pygments_lexer": "ipython3",
   "version": "3.8.3"
  }
 },
 "nbformat": 4,
 "nbformat_minor": 1
}
