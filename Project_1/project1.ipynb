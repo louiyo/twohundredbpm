{
 "cells": [
  {
   "cell_type": "code",
   "execution_count": 1,
   "metadata": {},
   "outputs": [],
   "source": [
    "# Useful starting lines\n",
    "%matplotlib inline\n",
    "import numpy as np\n",
    "import matplotlib.pyplot as plt\n",
    "%load_ext autoreload\n",
    "%autoreload 2"
   ]
  },
  {
   "cell_type": "markdown",
   "metadata": {},
   "source": [
    "## Load the training data into feature matrix, class labels, and event ids:"
   ]
  },
  {
   "cell_type": "code",
   "execution_count": 3,
   "metadata": {},
   "outputs": [
    {
     "name": "stdout",
     "output_type": "stream",
     "text": [
      "[22]\n",
      "loading of csv file done\n",
      "4\n",
      "loaded set\n",
      "loaded big array\n",
      "loaded ids array\n",
      "loaded input data array\n",
      "loaded y array\n"
     ]
    }
   ],
   "source": [
    "from proj1_helpers import *\n",
    "DATA_TRAIN_PATH = 'Data/train.csv' # TODO: download train data and supply path here \n",
    "y, tX, ids = load_csv_data(DATA_TRAIN_PATH)"
   ]
  },
  {
   "cell_type": "markdown",
   "metadata": {},
   "source": [
    "## Generate predictions and save ouput in csv format for submission:"
   ]
  },
  {
   "cell_type": "code",
   "execution_count": 4,
   "metadata": {},
   "outputs": [
    {
     "name": "stdout",
     "output_type": "stream",
     "text": [
      "[22]\n",
      "loading of csv file done\n",
      "4\n",
      "loaded set\n",
      "loaded big array\n",
      "loaded ids array\n",
      "loaded input data array\n",
      "loaded y array\n"
     ]
    }
   ],
   "source": [
    "DATA_TEST_PATH = 'Data/test.csv' # TODO: download train data and supply path here \n",
    "_, tX_test, ids_test = load_csv_data(DATA_TEST_PATH)"
   ]
  },
  {
   "cell_type": "code",
   "execution_count": null,
   "metadata": {},
   "outputs": [],
   "source": [
    "tX = remove_non_defined_columns(tX)\n",
    "tX_test = remove_non_defined_columns(tX_test)\n",
    "\n",
    "y_pred = np.zeros(len(y))\n",
    "\n",
    "# Mauvaise itération - itérer sur chaque dataset spécifique au particules 0,1,2, et 3.\n",
    "# Puis compute le model pour les particules avec le PRI_jet_num spécifique.\n",
    "for idx in range(len(tX)):\n",
    "    # initializing the prediction vector :\n",
    "    y_pred_ = np.zeros(len(tX[idx]))\n",
    "    print(y_pred_.shape)\n",
    "\n",
    "    # extracting the values of group idx :\n",
    "    train_x_jet_ = train_x_jet[idx]\n",
    "    train_y_jet_ = y[idx]\n",
    "    test_x_jet_ = test_x_jet[idx]\n",
    "\n",
    "    # Removing additional outliers :\n",
    "    train_selected_x_jet = replace_non_defined(train_x_jet_)\n",
    "    test_selected_x_jet = replace_non_defined(test_x_jet_)\n",
    "\n",
    "    # standardize :\n",
    "    tX_train, mean_x_train, std_x_train = standardize(train_selected_x_jet)\n",
    "    tX_test, _, _ = standardize(test_selected_x_jet, mean_x_train, std_x_train)\n",
    "\n",
    "    # Polynomial feature expansion :\n",
    "    tX_train_poly = build_poly_tx(tX_train, degrees[idx])\n",
    "    tX_test_poly = build_poly_tx(tX_test, degrees[idx])\n",
    "\n",
    "    w_, loss_ = ridge_regression(train_y_jet_, tX_train_poly, lambdas[idx])\n",
    "\n",
    "    accuracy_ = compute_accuracy(train_y_jet_, tX_train_poly, w_)\n",
    "    print('The accuracy of model [] is equal to []'.format(int(idx),accuracy_))\n",
    "\n",
    "    # Computing test accuracy : (To be changed -> à mettre dans une nouvelle boucle)\n",
    "    y_pred_ = predict_labels(w_, tX_test_poly)\n",
    "    y_pred[test_x_jet_[1] == idx] = y_pred_.flatten()\n",
    "\n",
    "    test_acc = np.mean(y_pred == y_test, axis = 0)\n",
    "    print('The accuracy over the test data is equal to []'.format(test_acc))\n",
    "\n",
    "create_csv_submission(ids_test, y_pred, OUTPUT_PATH)\n"
   ]
  },
  {
   "cell_type": "code",
   "execution_count": 31,
   "metadata": {},
   "outputs": [],
   "source": [
    "OUTPUT_PATH = '' # TODO: fill in desired name of output file for submission\n",
    "y_pred = predict_labels(weights, tX_test)\n",
    "create_csv_submission(ids_test, y_pred, OUTPUT_PATH)"
   ]
  },
  {
   "cell_type": "code",
   "execution_count": null,
   "metadata": {
    "collapsed": true
   },
   "outputs": [],
   "source": []
  }
 ],
 "metadata": {
  "anaconda-cloud": {},
  "kernelspec": {
   "display_name": "Python 3",
   "language": "python",
   "name": "python3"
  },
  "language_info": {
   "codemirror_mode": {
    "name": "ipython",
    "version": 3
   },
   "file_extension": ".py",
   "mimetype": "text/x-python",
   "name": "python",
   "nbconvert_exporter": "python",
   "pygments_lexer": "ipython3",
   "version": "3.8.3"
  }
 },
 "nbformat": 4,
 "nbformat_minor": 1
}
