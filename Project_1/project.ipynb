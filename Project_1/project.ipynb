{
 "cells": [
  {
   "cell_type": "markdown",
   "metadata": {},
   "source": [
    "# CS-433 Project 1 by group twohundredbpm"
   ]
  },
  {
   "cell_type": "markdown",
   "metadata": {},
   "source": [
    "## Useful imports"
   ]
  },
  {
   "cell_type": "code",
   "execution_count": null,
   "metadata": {},
   "outputs": [],
   "source": [
    "# Useful starting lines\n",
    "%matplotlib inline\n",
    "import numpy as np\n",
    "import matplotlib.pyplot as plt\n",
    "from helpers import *\n",
    "from implementations import *\n",
    "from cost import *\n",
    "from gradients import *\n",
    "from preprocessing import *\n",
    "from cross_validation import *\n",
    "%load_ext autoreload\n",
    "%autoreload 2"
   ]
  },
  {
   "cell_type": "markdown",
   "metadata": {},
   "source": [
    "## Getting data"
   ]
  },
  {
   "cell_type": "code",
   "execution_count": null,
   "metadata": {},
   "outputs": [],
   "source": [
    "from proj1_helpers import *\n",
    "DATA_TRAIN_PATH = 'Data/train.csv' # TODO: download train data and supply path here \n",
    "y, tX, ids = load_csv_data(DATA_TRAIN_PATH)"
   ]
  },
  {
   "cell_type": "code",
   "execution_count": null,
   "metadata": {},
   "outputs": [],
   "source": [
    "DATA_TEST_PATH = 'Data/test.csv'  # TODO: download train data and supply path here\n",
    "y_test, tX_test, ids_test = load_csv_data(DATA_TEST_PATH)"
   ]
  },
  {
   "cell_type": "markdown",
   "metadata": {},
   "source": [
    "## Running cross-validation to get the best hyper-parameters"
   ]
  },
  {
   "cell_type": "code",
   "execution_count": null,
   "metadata": {},
   "outputs": [],
   "source": [
    "tX_cross = tX.copy()\n",
    "tX_cross = preprocess(tX_cross)"
   ]
  },
  {
   "cell_type": "code",
   "execution_count": null,
   "metadata": {},
   "outputs": [],
   "source": [
    "print(np.logspace(-5, -2, 4))"
   ]
  },
  {
   "cell_type": "code",
   "execution_count": null,
   "metadata": {},
   "outputs": [],
   "source": [
    "for idx in range(len(tX)):\n",
    "    train_x_jet = tX_cross[idx]\n",
    "    train_y_jet = y[idx]\n",
    "    test_x_jet = tX_test[idx]\n",
    "    \n",
    "    _, best_params = cross_validation(train_y_jet, train_x_jet,\n",
    "                     degrees=np.arange(10,14), lambdas=np.logspace(-5, -2, 4))\n",
    "    \n",
    "    print(\"for model {}, the best parameters are : \\n\",\n",
    "          \"degree = \", best_params[0], \" lambda = \", best_params[1])"
   ]
  },
  {
   "cell_type": "code",
   "execution_count": null,
   "metadata": {},
   "outputs": [],
   "source": []
  },
  {
   "cell_type": "markdown",
   "metadata": {},
   "source": [
    "## Building the model and retrieving prediction"
   ]
  },
  {
   "cell_type": "code",
   "execution_count": null,
   "metadata": {},
   "outputs": [],
   "source": [
    "# setting up parameters\n",
    "degrees = [11, 12, 13, 12]\n",
    "lambdas = [0.001009312, 0.001009312, 1.1212e-05, 0.0000696969]\n",
    "\n",
    "# Removing irrelevant columns from the jet groups:\n",
    "tX = preprocess(tX)\n",
    "tX_test = preprocess(tX_test)\n",
    "\n",
    "# Instancing predictions\n",
    "y_pred = []"
   ]
  },
  {
   "cell_type": "code",
   "execution_count": null,
   "metadata": {},
   "outputs": [],
   "source": [
    "# Building models\n",
    "for idx in range(len(tX)):\n",
    "    print(\"Beginning training on model \", idx+1)\n",
    "\n",
    "    # extracting the values of specific group :\n",
    "    train_x_jet = tX[idx]\n",
    "    train_y_jet = y[idx]\n",
    "    test_x_jet = tX_test[idx]\n",
    "\n",
    "    # Polynomial feature expansion :\n",
    "    tX_train_poly = polynomial_expansion(train_x_jet, degrees[idx])\n",
    "    tX_test_poly = polynomial_expansion(test_x_jet, degrees[idx])\n",
    "\n",
    "    w_, loss_ = ridge_regression(train_y_jet, tX_train_poly, lambdas[idx])\n",
    "\n",
    "    accuracy_ = compute_accuracy(train_y_jet, tX_train_poly, w_)\n",
    "    print('The accuracy of model {} is equal to {}'.format(int(idx+1), accuracy_))\n",
    "\n",
    "    y_pred_jet = predict_labels(w_, tX_test_poly)\n",
    "\n",
    "    y_pred.append(y_pred_jet)"
   ]
  },
  {
   "cell_type": "code",
   "execution_count": null,
   "metadata": {},
   "outputs": [],
   "source": [
    "%%capture\n",
    "# Building back the prediction array from the sorted ones\n",
    "y_total = np.zeros(len(np.hstack(ids_test)))\n",
    "\n",
    "min_id_test = min(np.hstack(ids_test))\n",
    "\n",
    "ids_total = np.arange(len(y_total))\n",
    "ids_total += min_id_test\n",
    "\n",
    "for jet_num in range(len(y)):\n",
    "    for j in range(len(y_pred[jet_num])):\n",
    "        y_total[ids_test[jet_num][j] - min_id_test] = y_pred[jet_num][j]\n",
    "\n",
    "y_total.reshape(-1, 1)"
   ]
  },
  {
   "cell_type": "markdown",
   "metadata": {},
   "source": [
    "## Building output"
   ]
  },
  {
   "cell_type": "code",
   "execution_count": null,
   "metadata": {},
   "outputs": [],
   "source": [
    "OUTPUT_PATH = \"Data/doto.csv\"\n",
    "print('Building output file in ', OUTPUT_PATH)\n",
    "create_csv_submission(ids_total, y_total, OUTPUT_PATH)"
   ]
  }
 ],
 "metadata": {
  "kernelspec": {
   "display_name": "Python 3",
   "language": "python",
   "name": "python3"
  },
  "language_info": {
   "codemirror_mode": {
    "name": "ipython",
    "version": 3
   },
   "file_extension": ".py",
   "mimetype": "text/x-python",
   "name": "python",
   "nbconvert_exporter": "python",
   "pygments_lexer": "ipython3",
   "version": "3.8.3"
  }
 },
 "nbformat": 4,
 "nbformat_minor": 4
}
