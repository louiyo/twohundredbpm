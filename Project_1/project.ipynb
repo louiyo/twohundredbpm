{
 "cells": [
  {
   "cell_type": "markdown",
   "metadata": {},
   "source": [
    "# CS-433 Project 1 by group twohundredbpm"
   ]
  },
  {
   "cell_type": "markdown",
   "metadata": {},
   "source": [
    "## Useful imports"
   ]
  },
  {
   "cell_type": "code",
   "execution_count": 1,
   "metadata": {},
   "outputs": [],
   "source": [
    "# Useful starting lines\n",
    "%matplotlib inline\n",
    "import numpy as np\n",
    "import seaborn as sb\n",
    "import matplotlib.pyplot as plt\n",
    "from helpers import *\n",
    "from implementations import *\n",
    "from cost import *\n",
    "from gradients import *\n",
    "from preprocessing import *\n",
    "from cross_validation import *\n",
    "from plot import *\n",
    "%load_ext autoreload\n",
    "%autoreload 2"
   ]
  },
  {
   "cell_type": "markdown",
   "metadata": {},
   "source": [
    "## Getting data"
   ]
  },
  {
   "cell_type": "code",
   "execution_count": 2,
   "metadata": {},
   "outputs": [],
   "source": [
    "from proj1_helpers import *\n",
    "DATA_TRAIN_PATH = 'Data/train.csv' # TODO: download train data and supply path here \n",
    "y, tX, ids = load_csv_data(DATA_TRAIN_PATH)"
   ]
  },
  {
   "cell_type": "code",
   "execution_count": 3,
   "metadata": {},
   "outputs": [],
   "source": [
    "DATA_TEST_PATH = 'Data/test.csv'  # TODO: download train data and supply path here\n",
    "y_test, tX_test, ids_test = load_csv_data(DATA_TEST_PATH)"
   ]
  },
  {
   "cell_type": "markdown",
   "metadata": {},
   "source": [
    "## Running cross-validation to get the best hyper-parameters"
   ]
  },
  {
   "cell_type": "code",
   "execution_count": 4,
   "metadata": {},
   "outputs": [],
   "source": [
    "tX_cross = tX.copy()\n",
    "tX_cross = preprocess(tX_cross)"
   ]
  },
  {
   "cell_type": "code",
   "execution_count": 5,
   "metadata": {},
   "outputs": [
    {
     "name": "stdout",
     "output_type": "stream",
     "text": [
      "[1.e-05 1.e-04 1.e-03 1.e-02]\n"
     ]
    }
   ],
   "source": [
    "print(np.logspace(-5, -2, 4))"
   ]
  },
  {
   "cell_type": "code",
   "execution_count": null,
   "metadata": {
    "scrolled": false
   },
   "outputs": [
    {
     "name": "stdout",
     "output_type": "stream",
     "text": [
      "mean for  1e-05   0.8429718151973739\n",
      "mean for  2.1544346900318823e-05   0.8430418768516295\n",
      "mean for  4.641588833612782e-05   0.8430318680438788\n",
      "mean for  0.0001   0.8430819120826327\n",
      "mean for  0.00021544346900318823   0.8429718151973739\n",
      "mean for  0.00046415888336127773   0.8426315157338458\n",
      "mean for  0.001   0.8430118504283769\n",
      "mean for  0.002154434690031882   0.8426815597725997\n",
      "mean for  0.004641588833612777   0.839658899831852\n",
      "mean for  0.01   0.8413103531107374\n",
      "mean for  1e-05   0.8423412603090719\n",
      "mean for  2.1544346900318823e-05   0.8424813836175834\n",
      "mean for  4.641588833612782e-05   0.8424213307710785\n",
      "mean for  0.0001   0.8425414364640883\n",
      "mean for  0.00021544346900318823   0.8425714628873409\n",
      "mean for  0.00046415888336127773   0.8425914805028425\n",
      "mean for  0.001   0.8371266714708944\n",
      "mean for  0.002154434690031882   0.8424913924253343\n",
      "mean for  0.004641588833612777   0.8406097365681799\n",
      "mean for  0.01   0.8359956761950517\n",
      "mean for  1e-05   0.8429217711586197\n",
      "mean for  2.1544346900318823e-05   0.8429618063896228\n",
      "mean for  4.641588833612782e-05   0.8426014893105934\n",
      "mean for  0.0001   0.8417707582672751\n",
      "mean for  0.00021544346900318823   0.8406597806069341\n",
      "mean for  0.00046415888336127773   0.8394887501000879\n",
      "mean for  0.001   0.836145808311314\n",
      "mean for  0.002154434690031882   0.8188105532868925\n",
      "mean for  0.004641588833612777   0.8350848746897269\n",
      "mean for  0.01   0.8037673152374091\n",
      "mean for  1e-05   0.8026963728080712\n"
     ]
    }
   ],
   "source": [
    "performances = []\n",
    "degrees = np.arange(9,14)\n",
    "lambdas=np.logspace(-5, -2, 10)\n",
    "\n",
    "for idx in range(len(tX)):\n",
    "    train_x_jet = tX_cross[idx]\n",
    "    train_y_jet = y[idx]\n",
    "    test_x_jet = tX_test[idx]\n",
    "    \n",
    "    performance, best_params = cross_validation(train_y_jet, train_x_jet,\n",
    "                     degrees=degrees, lambdas=lambdas)\n",
    "    performances.append(performance)\n",
    "    \n",
    "    print(\"for model {}, the best parameters are : \\n\".format(idx+1),\n",
    "          \"degree = \", best_params[0], \" lambda = \", best_params[1])"
   ]
  },
  {
   "cell_type": "markdown",
   "metadata": {},
   "source": [
    "### Displaying cross-validation results :"
   ]
  },
  {
   "cell_type": "code",
   "execution_count": null,
   "metadata": {
    "scrolled": false
   },
   "outputs": [],
   "source": [
    "display_cross_validation(performances, degrees)"
   ]
  },
  {
   "cell_type": "markdown",
   "metadata": {},
   "source": [
    "## Building the model and retrieving prediction"
   ]
  },
  {
   "cell_type": "code",
   "execution_count": null,
   "metadata": {},
   "outputs": [],
   "source": [
    "# setting up parameters\n",
    "# degrees = [11, 12, 13, 12]\n",
    "# lambdas = [0.001009312, 0.001009312, 1.1212e-05, 0.0000696969]\n",
    "degrees = [12, 12, 13, 13]\n",
    "lambdas = [0.002, 0.002, 4.6e-4, 4.6e-4]\n",
    "\n",
    "# Removing irrelevant columns from the jet groups:\n",
    "tX = preprocess(tX)\n",
    "tX_test = preprocess(tX_test)\n",
    "\n",
    "# Instancing predictions\n",
    "y_pred = []"
   ]
  },
  {
   "cell_type": "code",
   "execution_count": null,
   "metadata": {},
   "outputs": [],
   "source": [
    "f,axs = plt.subplots(4,1,figsize=(20, 40))\n",
    "\n",
    "corr_heatmap1=sb.heatmap(np.corrcoef(tX[0].T), annot=True,ax=axs[0])\n",
    "axs[0].set_title(\"Correlation between features of subset 1\")\n",
    "corr_heatmap2=sb.heatmap(np.corrcoef(tX[1].T), annot=True,ax=axs[1])\n",
    "axs[1].set_title(\"Correlation between features of subset 2\")\n",
    "corr_heatmap3=sb.heatmap(np.corrcoef(tX[2].T), annot=True,ax=axs[2])\n",
    "axs[2].set_title(\"Correlation between features of subset 3\")\n",
    "corr_heatmap4=sb.heatmap(np.corrcoef(tX[3].T), annot=True,ax=axs[3])\n",
    "axs[3].set_title(\"Correlation between features of subset 4\")\n",
    "f.savefig(\"Training data features heatmaps\")"
   ]
  },
  {
   "cell_type": "code",
   "execution_count": null,
   "metadata": {},
   "outputs": [],
   "source": [
    "# Building models\n",
    "for idx in range(len(tX)):\n",
    "    print(\"Beginning training on model \", idx+1)\n",
    "\n",
    "    # extracting the values of specific group :\n",
    "    train_x_jet = tX[idx]\n",
    "    train_y_jet = y[idx]\n",
    "    test_x_jet = tX_test[idx]\n",
    "\n",
    "    # Polynomial feature expansion :\n",
    "    tX_train_poly = polynomial_expansion(train_x_jet, degrees[idx])\n",
    "    tX_test_poly = polynomial_expansion(test_x_jet, degrees[idx])\n",
    "\n",
    "    w_, loss_ = ridge_regression(train_y_jet, tX_train_poly, lambdas[idx])\n",
    "\n",
    "    accuracy_ = compute_accuracy(train_y_jet, tX_train_poly, w_)\n",
    "    print('The accuracy of model {} is equal to {}'.format(int(idx+1), accuracy_))\n",
    "\n",
    "    y_pred_jet = predict_labels(w_, tX_test_poly)\n",
    "\n",
    "    y_pred.append(y_pred_jet)"
   ]
  },
  {
   "cell_type": "code",
   "execution_count": null,
   "metadata": {},
   "outputs": [],
   "source": [
    "%%capture\n",
    "# Building back the prediction array from the sorted ones\n",
    "y_total = np.zeros(len(np.hstack(ids_test)))\n",
    "\n",
    "min_id_test = min(np.hstack(ids_test))\n",
    "\n",
    "ids_total = np.arange(len(y_total))\n",
    "ids_total += min_id_test\n",
    "\n",
    "for jet_num in range(len(y)):\n",
    "    for j in range(len(y_pred[jet_num])):\n",
    "        y_total[ids_test[jet_num][j] - min_id_test] = y_pred[jet_num][j]\n",
    "\n",
    "y_total.reshape(-1, 1)"
   ]
  },
  {
   "cell_type": "markdown",
   "metadata": {},
   "source": [
    "## Building output"
   ]
  },
  {
   "cell_type": "code",
   "execution_count": null,
   "metadata": {},
   "outputs": [],
   "source": [
    "OUTPUT_PATH = \"Data/doto.csv\"\n",
    "print('Building output file in ', OUTPUT_PATH)\n",
    "create_csv_submission(ids_total, y_total, OUTPUT_PATH)"
   ]
  },
  {
   "cell_type": "code",
   "execution_count": null,
   "metadata": {},
   "outputs": [],
   "source": []
  },
  {
   "cell_type": "code",
   "execution_count": null,
   "metadata": {},
   "outputs": [],
   "source": []
  }
 ],
 "metadata": {
  "kernelspec": {
   "display_name": "Python 3",
   "language": "python",
   "name": "python3"
  },
  "language_info": {
   "codemirror_mode": {
    "name": "ipython",
    "version": 3
   },
   "file_extension": ".py",
   "mimetype": "text/x-python",
   "name": "python",
   "nbconvert_exporter": "python",
   "pygments_lexer": "ipython3",
   "version": "3.8.3"
  }
 },
 "nbformat": 4,
 "nbformat_minor": 4
}
