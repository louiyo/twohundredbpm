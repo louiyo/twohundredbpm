{
 "cells": [
  {
   "cell_type": "markdown",
   "metadata": {},
   "source": [
    "# CS-433 Project 1 by group twohundredbpm"
   ]
  },
  {
   "cell_type": "markdown",
   "metadata": {},
   "source": [
    "## Useful imports"
   ]
  },
  {
   "cell_type": "code",
   "execution_count": 2,
   "metadata": {},
   "outputs": [
    {
     "name": "stdout",
     "output_type": "stream",
     "text": [
      "The autoreload extension is already loaded. To reload it, use:\n",
      "  %reload_ext autoreload\n"
     ]
    }
   ],
   "source": [
    "# Useful starting lines\n",
    "%matplotlib inline\n",
    "import numpy as np\n",
    "import matplotlib.pyplot as plt\n",
    "from helpers import *\n",
    "from implementations import *\n",
    "from cost import *\n",
    "from gradients import *\n",
    "from preprocessing import *\n",
    "from cross_validation import *\n",
    "%load_ext autoreload\n",
    "%autoreload 2"
   ]
  },
  {
   "cell_type": "markdown",
   "metadata": {},
   "source": [
    "## Getting data"
   ]
  },
  {
   "cell_type": "code",
   "execution_count": 3,
   "metadata": {},
   "outputs": [],
   "source": [
    "from proj1_helpers import *\n",
    "DATA_TRAIN_PATH = 'Data/train.csv' # TODO: download train data and supply path here \n",
    "y, tX, ids = load_csv_data(DATA_TRAIN_PATH)"
   ]
  },
  {
   "cell_type": "code",
   "execution_count": 4,
   "metadata": {},
   "outputs": [],
   "source": [
    "DATA_TEST_PATH = 'Data/test.csv'  # TODO: download train data and supply path here\n",
    "y_test, tX_test, ids_test = load_csv_data(DATA_TEST_PATH)"
   ]
  },
  {
   "cell_type": "markdown",
   "metadata": {},
   "source": [
    "## Building the model and retrieving prediction"
   ]
  },
  {
   "cell_type": "code",
   "execution_count": 5,
   "metadata": {},
   "outputs": [],
   "source": [
    "# setting up parameters\n",
    "degrees = [11, 12, 13, 12]\n",
    "lambdas = [0.001009312, 0.001009312, 1.1212e-05, 0.0000696969]\n",
    "\n",
    "# Removing irrelevant columns from the jet groups:\n",
    "tX = preprocess(tX)\n",
    "tX_test = preprocess(tX_test)\n",
    "\n",
    "# Instancing predictions\n",
    "y_pred = []"
   ]
  },
  {
   "cell_type": "code",
   "execution_count": 6,
   "metadata": {},
   "outputs": [
    {
     "name": "stdout",
     "output_type": "stream",
     "text": [
      "Beginning training on model  1\n",
      "The accuracy of model 1 is equal to 0.8441243882177495\n",
      "Beginning training on model  2\n",
      "The accuracy of model 2 is equal to 0.8069354173114619\n",
      "Beginning training on model  3\n",
      "The accuracy of model 3 is equal to 0.8367176799857083\n",
      "Beginning training on model  4\n",
      "The accuracy of model 4 is equal to 0.8397852373217831\n"
     ]
    }
   ],
   "source": [
    "# Building models\n",
    "for idx in range(len(tX)):\n",
    "    print(\"Beginning training on model \", idx+1)\n",
    "\n",
    "    # extracting the values of specific group :\n",
    "    train_x_jet = tX[idx]\n",
    "    train_y_jet = y[idx]\n",
    "    test_x_jet = tX_test[idx]\n",
    "\n",
    "    # Polynomial feature expansion :\n",
    "    tX_train_poly = polynomial_expansion(train_x_jet, degrees[idx])\n",
    "    tX_test_poly = polynomial_expansion(test_x_jet, degrees[idx])\n",
    "\n",
    "    w_, loss_ = ridge_regression(train_y_jet, tX_train_poly, lambdas[idx])\n",
    "\n",
    "    accuracy_ = compute_accuracy(train_y_jet, tX_train_poly, w_)\n",
    "    print('The accuracy of model {} is equal to {}'.format(int(idx+1), accuracy_))\n",
    "\n",
    "    y_pred_jet = predict_labels(w_, tX_test_poly)\n",
    "\n",
    "    y_pred.append(y_pred_jet)"
   ]
  },
  {
   "cell_type": "code",
   "execution_count": 9,
   "metadata": {},
   "outputs": [],
   "source": [
    "%%capture\n",
    "# Building back the prediction array from the sorted ones\n",
    "y_total = np.zeros(len(np.hstack(ids_test)))\n",
    "\n",
    "min_id_test = min(np.hstack(ids_test))\n",
    "\n",
    "ids_total = np.arange(len(y_total))\n",
    "ids_total += min_id_test\n",
    "\n",
    "for jet_num in range(len(y)):\n",
    "    for j in range(len(y_pred[jet_num])):\n",
    "        y_total[ids_test[jet_num][j] - min_id_test] = y_pred[jet_num][j]\n",
    "\n",
    "y_total.reshape(-1, 1)"
   ]
  },
  {
   "cell_type": "markdown",
   "metadata": {},
   "source": [
    "## Building output"
   ]
  },
  {
   "cell_type": "code",
   "execution_count": 10,
   "metadata": {},
   "outputs": [
    {
     "name": "stdout",
     "output_type": "stream",
     "text": [
      "Building output file in  Data/doto.csv\n"
     ]
    }
   ],
   "source": [
    "OUTPUT_PATH = \"Data/doto.csv\"\n",
    "print('Building output file in ', OUTPUT_PATH)\n",
    "create_csv_submission(ids_total, y_total, OUTPUT_PATH)"
   ]
  }
 ],
 "metadata": {
  "kernelspec": {
   "display_name": "Python 3",
   "language": "python",
   "name": "python3"
  },
  "language_info": {
   "codemirror_mode": {
    "name": "ipython",
    "version": 3
   },
   "file_extension": ".py",
   "mimetype": "text/x-python",
   "name": "python",
   "nbconvert_exporter": "python",
   "pygments_lexer": "ipython3",
   "version": "3.8.3"
  }
 },
 "nbformat": 4,
 "nbformat_minor": 4
}
